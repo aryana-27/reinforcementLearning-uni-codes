{
  "nbformat": 4,
  "nbformat_minor": 0,
  "metadata": {
    "colab": {
      "provenance": []
    },
    "kernelspec": {
      "name": "python3",
      "display_name": "Python 3"
    },
    "language_info": {
      "name": "python"
    }
  },
  "cells": [
    {
      "cell_type": "code",
      "source": [
        "import random\n",
        "\n",
        "def main():\n",
        "    p, d = 0, 0  # Player's and Dealer's totals\n",
        "    dealer_final_card = None  # To track the dealer's final card\n",
        "\n",
        "    print(\"Player's turn\")\n",
        "    while True:\n",
        "        a = random.randint(0, 2)\n",
        "        b = random.randint(0, 9)\n",
        "        if a == 2:\n",
        "            p -= (b + 1)\n",
        "        else:\n",
        "            p += (b + 1)\n",
        "\n",
        "        print(f\"Your total: {p}\")\n",
        "\n",
        "        if p < 0:\n",
        "            print(f\"Your total is negative ({p}). You lost the game!\")\n",
        "            return\n",
        "\n",
        "        if p > 21:\n",
        "            print(\"Player lost\")\n",
        "            return\n",
        "\n",
        "        c = input(\"Do you want to hit or stick? Press 's' to stand: \").strip().lower()\n",
        "        if c == 's':\n",
        "            break\n",
        "\n",
        "    print(\"\\nDealer's turn\")\n",
        "    while True:\n",
        "        a = random.randint(0, 2)\n",
        "        b = random.randint(0, 9)\n",
        "        if a == 2:\n",
        "            d -= (b + 1)\n",
        "        else:\n",
        "            d += (b + 1)\n",
        "\n",
        "        dealer_final_card = b + 1  # Track the dealer's last card\n",
        "        print(f\"Dealer's total: {d}\")\n",
        "\n",
        "        if d >= 17:\n",
        "            print(\"Dealer cannot hit further\")\n",
        "            break\n",
        "\n",
        "        if d > 21:\n",
        "            print(\"Dealer lost\")\n",
        "            print(f\"Dealer's last card was: {dealer_final_card}\")\n",
        "            return\n",
        "\n",
        "    # Compare results\n",
        "    if p > d:\n",
        "        print(f\"Player won. Dealer's last card was: {dealer_final_card}\")\n",
        "    elif p == d:\n",
        "        print(f\"Draw. Dealer's last card was: {dealer_final_card}\")\n",
        "    else:\n",
        "        print(f\"Dealer won. Dealer's last card was: {dealer_final_card}\")\n",
        "\n",
        "if __name__ == \"__main__\":\n",
        "    main()\n"
      ],
      "metadata": {
        "id": "MlbVCxBEckkh",
        "colab": {
          "base_uri": "https://localhost:8080/"
        },
        "outputId": "5a9de265-cac7-4808-f522-083d06780216"
      },
      "execution_count": null,
      "outputs": [
        {
          "output_type": "stream",
          "name": "stdout",
          "text": [
            "Player's turn\n",
            "Your total: 5\n",
            "Do you want to hit or stick? Press 's' to stand: h\n",
            "Your total: 6\n",
            "Do you want to hit or stick? Press 's' to stand: h\n",
            "Your total: 3\n",
            "Do you want to hit or stick? Press 's' to stand: h\n",
            "Your total: 8\n",
            "Do you want to hit or stick? Press 's' to stand: h\n",
            "Your total: 14\n",
            "Do you want to hit or stick? Press 's' to stand: h\n",
            "Your total: 21\n",
            "Do you want to hit or stick? Press 's' to stand: s\n",
            "\n",
            "Dealer's turn\n",
            "Dealer's total: -8\n",
            "Dealer's total: -16\n",
            "Dealer's total: -8\n",
            "Dealer's total: 1\n",
            "Dealer's total: 2\n",
            "Dealer's total: -3\n",
            "Dealer's total: 4\n",
            "Dealer's total: 7\n",
            "Dealer's total: 11\n",
            "Dealer's total: 14\n",
            "Dealer's total: 18\n",
            "Dealer cannot hit further\n",
            "Player won. Dealer's last card was: 4\n"
          ]
        }
      ]
    }
  ]
}